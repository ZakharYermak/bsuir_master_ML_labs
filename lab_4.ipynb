{
 "cells": [
  {
   "cell_type": "markdown",
   "metadata": {},
   "source": [
    "# Лабораторная работа №4 “Нейронные сети”"
   ]
  },
  {
   "cell_type": "markdown",
   "metadata": {},
   "source": [
    "### *Набор данных **ex4data1.mat** (такой же, как в лабораторной работе №2) представляет собой файл формата *.mat (т.е. сохраненного из Matlab). Набор содержит 5000 изображений 20x20 в оттенках серого. Каждый пиксель представляет собой значение яркости (вещественное число). Каждое изображение сохранено в виде вектора из 400 элементов. В результате загрузки набора данных должна быть получена матрица 5000x400. Далее расположены метки классов изображений от 1 до 9 (соответствуют цифрам от 1 до 9), а также 10 (соответствует цифре 0).*"
   ]
  },
  {
   "cell_type": "markdown",
   "metadata": {},
   "source": [
    "## **Задание**"
   ]
  },
  {
   "cell_type": "markdown",
   "metadata": {},
   "source": [
    "### 1. Загрузите данные **ex4data1.mat** из файла."
   ]
  },
  {
   "cell_type": "code",
   "execution_count": 35,
   "metadata": {},
   "outputs": [],
   "source": [
    "from copy import deepcopy\n",
    "\n",
    "import numpy as np\n",
    "\n",
    "import matplotlib.pyplot as plt\n",
    "\n",
    "from scipy import io\n",
    "\n",
    "from sklearn.preprocessing import OneHotEncoder\n",
    "\n",
    "%matplotlib inline"
   ]
  },
  {
   "cell_type": "code",
   "execution_count": 4,
   "metadata": {},
   "outputs": [],
   "source": [
    "ex4data1 = io.loadmat('Data/Lab 4/ex4data1.mat')\n",
    "X, y = ex4data1['X'], ex4data1['y'].flatten()"
   ]
  },
  {
   "cell_type": "markdown",
   "metadata": {},
   "source": [
    "### 2. Загрузите веса нейронной сети из файла ex4weights.mat, который содержит две матрицы Θ<sup>(1)</sup> (25, 401) и Θ<sup>(2)</sup> (10, 26). Какова структура полученной нейронной сети?"
   ]
  },
  {
   "cell_type": "code",
   "execution_count": 5,
   "metadata": {},
   "outputs": [],
   "source": [
    "ex4weights = io.loadmat('Data/Lab 4/ex4weights.mat')\n",
    "theta1, theta2 = ex4weights['Theta1'], ex4weights['Theta2']"
   ]
  },
  {
   "cell_type": "markdown",
   "metadata": {},
   "source": [
    "Структура сети: двухслойная полносвязная сеть"
   ]
  },
  {
   "cell_type": "markdown",
   "metadata": {},
   "source": [
    "### 3. Реализуйте функцию прямого распространения с сигмоидом в качестве функции активации."
   ]
  },
  {
   "cell_type": "code",
   "execution_count": 8,
   "metadata": {},
   "outputs": [],
   "source": [
    "class SigmoidLayer:\n",
    "    def __init__(self):\n",
    "        pass\n",
    "\n",
    "    def forward(self, X):\n",
    "        return np.ones_like(X) / (np.ones_like(X) + np.exp(-X))"
   ]
  },
  {
   "cell_type": "code",
   "execution_count": 6,
   "metadata": {},
   "outputs": [],
   "source": [
    "class Param:\n",
    "    def __init__(self, value):\n",
    "        self.value = value\n",
    "        self.grad = np.zeros_like(value)\n",
    "        \n",
    "\n",
    "class FullyConnectedLayer:\n",
    "    def __init__(self, W, B):\n",
    "        self.W = Param(W)\n",
    "        self.B = Param(B)\n",
    "        \n",
    "        self.X = None\n",
    "\n",
    "    def forward(self, X):\n",
    "        self.X = X\n",
    "        result = self.X @ self.W.value + self.B.value\n",
    "\n",
    "        return result\n",
    "    \n",
    "    \n",
    "class TwoLayerNet:\n",
    "    def __init__(self, W1, W2, B1, B2):\n",
    "        self.fc1 = FullyConnectedLayer(W1, B1)\n",
    "        self.fc2 = FullyConnectedLayer(W2, B2)\n",
    "        \n",
    "        self.sigmoid = SigmoidLayer()\n",
    "    \n",
    "    def forward(self, X):\n",
    "        predictions = self.fc1.forward(X)\n",
    "        predictions = self.sigmoid.forward(predictions)\n",
    "        predictions = self.fc2.forward(predictions)\n",
    "        \n",
    "        return predictions\n",
    "        \n",
    "    def predict(self, X):\n",
    "        predictions = self.forward(X)\n",
    "        pred = np.argmax(predictions, axis=1)\n",
    "\n",
    "        return pred"
   ]
  },
  {
   "cell_type": "markdown",
   "metadata": {},
   "source": [
    "### 4. Вычислите процент правильных классификаций на обучающей выборке. Сравните полученный результат с логистической регрессией."
   ]
  },
  {
   "cell_type": "code",
   "execution_count": 9,
   "metadata": {},
   "outputs": [],
   "source": [
    "theta1_tr, theta2_tr = theta1.transpose(), theta2.transpose()\n",
    "W1, W2 = theta1_tr[1:, :], theta2_tr[1:, :]\n",
    "B1, B2 = theta1_tr[0, :], theta2_tr[0, :]\n",
    "\n",
    "model = TwoLayerNet(W1, W2, B1, B2)\n",
    "\n",
    "predictions = model.predict(X)"
   ]
  },
  {
   "cell_type": "code",
   "execution_count": 12,
   "metadata": {},
   "outputs": [
    {
     "name": "stdout",
     "output_type": "stream",
     "text": [
      "Correct answers percent: 97.52% (log regression: 94.76%)\n"
     ]
    }
   ],
   "source": [
    "def multiclass_accuracy(prediction, ground_truth):\n",
    "    right_predictions = prediction == ground_truth\n",
    "    accuracy = right_predictions.sum() / right_predictions.shape[0]\n",
    "\n",
    "    return accuracy\n",
    "\n",
    "nn_accuracy = multiclass_accuracy(predictions, y-1)\n",
    "\n",
    "print('Correct answers percent: {:.2%} (log regression: 94.76%)'.format(nn_accuracy))"
   ]
  },
  {
   "cell_type": "markdown",
   "metadata": {},
   "source": [
    "### 5. Перекодируйте исходные метки классов по схеме one-hot."
   ]
  },
  {
   "cell_type": "code",
   "execution_count": 15,
   "metadata": {},
   "outputs": [],
   "source": [
    "label_encoder = OneHotEncoder(categories='auto')\n",
    "y_one_hot = label_encoder.fit_transform(y.reshape(-1, 1)).toarray()"
   ]
  },
  {
   "cell_type": "markdown",
   "metadata": {},
   "source": [
    "### 6. Реализуйте функцию стоимости для данной нейронной сети."
   ]
  },
  {
   "cell_type": "code",
   "execution_count": 16,
   "metadata": {},
   "outputs": [],
   "source": [
    "def softmax_with_cross_entropy(predictions, target_index):\n",
    "    predictions = predictions - np.max(predictions, axis=1)[:, np.newaxis]\n",
    "    exponents = np.exp(predictions)\n",
    "    softmax_values = exponents / np.sum(exponents, axis=1)[:, np.newaxis]\n",
    "\n",
    "    loss = -np.log(softmax_values[range(softmax_values.shape[0]), target_index])\n",
    "    loss = np.sum(loss)\n",
    "\n",
    "    dprediction = softmax_values\n",
    "    dprediction[range(dprediction.shape[0]), target_index] -= 1\n",
    "\n",
    "    return loss, dprediction"
   ]
  },
  {
   "cell_type": "markdown",
   "metadata": {},
   "source": [
    "### 7. Добавьте L2-регуляризацию в функцию стоимости."
   ]
  },
  {
   "cell_type": "code",
   "execution_count": 17,
   "metadata": {},
   "outputs": [],
   "source": [
    "def l2_regularization(W, reg_strength):\n",
    "    loss = reg_strength * np.sum(W**2)\n",
    "    grad = reg_strength * 2 * W\n",
    "\n",
    "    return loss, grad"
   ]
  },
  {
   "cell_type": "markdown",
   "metadata": {},
   "source": [
    "### 8. Реализуйте функцию вычисления производной для функции активации."
   ]
  },
  {
   "cell_type": "code",
   "execution_count": 18,
   "metadata": {},
   "outputs": [],
   "source": [
    "class SigmoidLayer:\n",
    "    def __init__(self):\n",
    "        self.sigmoid_value = None\n",
    "\n",
    "    def forward(self, X):\n",
    "        self.sigmoid_value = np.ones_like(X) / (np.ones_like(X) + np.exp(-X))\n",
    "        return self.sigmoid_value \n",
    "    \n",
    "    def backward(self, d_out):\n",
    "        d_sigmoid = (np.ones_like(self.sigmoid_value) - self.sigmoid_value) * self.sigmoid_value\n",
    "        \n",
    "        return d_out * d_sigmoid\n",
    "\n",
    "    def params(self):\n",
    "        return {}\n",
    "    \n",
    "\n",
    "class FullyConnectedLayer:\n",
    "    def __init__(self, W, B):\n",
    "        self.W = Param(W)\n",
    "        self.B = Param(B)\n",
    "        \n",
    "        self.X = None\n",
    "\n",
    "    def forward(self, X):\n",
    "        self.X = X\n",
    "        result = self.X @ self.W.value + self.B.value\n",
    "\n",
    "        return result\n",
    "    \n",
    "    def backward(self, d_out):\n",
    "        d_input = d_out @ self.W.value.T\n",
    "\n",
    "        self.W.grad = self.X.T @ d_out\n",
    "        self.B.grad = np.sum(d_out, axis=0) * np.ones_like(self.B.value)\n",
    "\n",
    "        return d_input\n",
    "\n",
    "    def params(self):\n",
    "        return {'W': self.W, 'B': self.B}"
   ]
  },
  {
   "cell_type": "markdown",
   "metadata": {},
   "source": [
    "### 9. Инициализируйте веса небольшими случайными числами."
   ]
  },
  {
   "cell_type": "code",
   "execution_count": 19,
   "metadata": {},
   "outputs": [],
   "source": [
    "model = TwoLayerNet(\n",
    "    W1=np.random.randn(400, 25), \n",
    "    W2=np.random.randn(25, 10), \n",
    "    B1=np.random.randn(25), \n",
    "    B2=np.random.randn(10)\n",
    ")"
   ]
  },
  {
   "cell_type": "markdown",
   "metadata": {},
   "source": [
    "### 10. Реализуйте алгоритм обратного распространения ошибки для данной конфигурации сети."
   ]
  },
  {
   "cell_type": "code",
   "execution_count": 20,
   "metadata": {},
   "outputs": [],
   "source": [
    "class TwoLayerNet:\n",
    "    def __init__(self, W1, W2, B1, B2, reg):\n",
    "        self.fc1 = FullyConnectedLayer(W1, B1)\n",
    "        self.sigmoid = SigmoidLayer()\n",
    "        self.fc2 = FullyConnectedLayer(W2, B2)\n",
    "        self.reg = reg\n",
    "           \n",
    "    def forward(self, X):\n",
    "        predictions = self.fc1.forward(X)\n",
    "        predictions = self.sigmoid.forward(predictions)\n",
    "        predictions = self.fc2.forward(predictions)\n",
    "        \n",
    "        return predictions\n",
    "        \n",
    "    def predict(self, X):\n",
    "        predictions = self.forward(X)\n",
    "        pred = np.argmax(predictions, axis=1)\n",
    "\n",
    "        return pred\n",
    "    \n",
    "    def compute_loss_and_gradients(self, X, y):\n",
    "        for param in self.params().values():\n",
    "            param.grad = np.zeros_like(param.grad)\n",
    "\n",
    "        predictions = self.forward(X)\n",
    "        cross_entropy_loss, dpredictions = softmax_with_cross_entropy(predictions, y)\n",
    " \n",
    "        dpredictions = self.fc2.backward(dpredictions)\n",
    "        dpredictions = self.sigmoid.backward(dpredictions)\n",
    "        dpredictions = self.fc1.backward(dpredictions)\n",
    "        dX = dpredictions\n",
    "\n",
    "        total_regularization_loss = 0\n",
    "        for param in self.params().values():\n",
    "            l2_loss, l2_grad = l2_regularization(param.value, self.reg)\n",
    "\n",
    "            param.grad += l2_grad\n",
    "            total_regularization_loss += l2_loss\n",
    "\n",
    "        loss = cross_entropy_loss + total_regularization_loss\n",
    "\n",
    "        return loss\n",
    "\n",
    "    def params(self):\n",
    "        result = {\n",
    "            'W1': self.fc1.W,\n",
    "            'B1': self.fc1.B,\n",
    "            'W2': self.fc2.W,\n",
    "            'B2': self.fc2.B\n",
    "        }\n",
    "\n",
    "        return result"
   ]
  },
  {
   "cell_type": "markdown",
   "metadata": {},
   "source": [
    "### 11. Для того, чтобы удостоверится в правильности вычисленных значений градиентов используйте метод проверки градиента с параметром ε = 10-4."
   ]
  },
  {
   "cell_type": "code",
   "execution_count": 21,
   "metadata": {},
   "outputs": [],
   "source": [
    "def check_gradient(f, x, delta=1e-5, tol=1e-6):\n",
    "    \n",
    "    assert isinstance(x, np.ndarray)\n",
    "    assert x.dtype == np.float\n",
    "    \n",
    "    orig_x = x.copy()\n",
    "    fx, analytic_grad = f(x)\n",
    "    assert np.all(np.isclose(orig_x, x, tol)), \"Functions shouldn't modify input variables\"\n",
    "\n",
    "    assert analytic_grad.shape == x.shape\n",
    "    analytic_grad = analytic_grad.copy()\n",
    "\n",
    "    # We will go through every dimension of x and compute numeric\n",
    "    # derivative for it\n",
    "    it = np.nditer(x, flags=['multi_index'], op_flags=['readwrite'])\n",
    "    while not it.finished:\n",
    "        ix = it.multi_index\n",
    "        analytic_grad_at_ix = analytic_grad[ix]\n",
    "\n",
    "        h = np.zeros_like(x)\n",
    "        h[ix] += 1\n",
    "\n",
    "        numeric_grad_at_ix = (f(x + delta*h)[0] - f(x - delta*h)[0]) / (2 * delta)\n",
    "\n",
    "        if not np.isclose(numeric_grad_at_ix, analytic_grad_at_ix, tol):\n",
    "            print(\"Gradients are different at %s. Analytic: %2.5f, Numeric: %2.5f\" % (ix, analytic_grad_at_ix, numeric_grad_at_ix))\n",
    "            return False\n",
    "\n",
    "        it.iternext()\n",
    "\n",
    "    print(\"Gradient check passed!\")\n",
    "    return True\n",
    "\n",
    "\n",
    "def check_model_gradient(model, X, y, delta=1e-5, tol=1e-6):\n",
    "    params = model.params()\n",
    "\n",
    "    for param_key in params:\n",
    "        print(\"Checking gradient for %s\" % param_key)\n",
    "        param = params[param_key]\n",
    "        initial_w = param.value\n",
    "\n",
    "        def helper_func(w):\n",
    "            param.value = w\n",
    "            loss = model.compute_loss_and_gradients(X, y)\n",
    "            grad = param.grad\n",
    "            return loss, grad\n",
    "\n",
    "        if not check_gradient(helper_func, initial_w, delta, tol):\n",
    "            return False\n",
    "\n",
    "    return True"
   ]
  },
  {
   "cell_type": "code",
   "execution_count": 22,
   "metadata": {},
   "outputs": [],
   "source": [
    "model = TwoLayerNet(\n",
    "    W1=np.random.randn(400, 25), \n",
    "    W2=np.random.randn(25, 10), \n",
    "    B1=np.random.randn(25), \n",
    "    B2=np.random.randn(10),\n",
    "    reg=0\n",
    ")"
   ]
  },
  {
   "cell_type": "code",
   "execution_count": 23,
   "metadata": {},
   "outputs": [
    {
     "name": "stdout",
     "output_type": "stream",
     "text": [
      "Checking gradient for W1\n",
      "Gradient check passed!\n",
      "Checking gradient for B1\n",
      "Gradient check passed!\n",
      "Checking gradient for W2\n",
      "Gradient check passed!\n",
      "Checking gradient for B2\n",
      "Gradient check passed!\n"
     ]
    },
    {
     "data": {
      "text/plain": [
       "True"
      ]
     },
     "execution_count": 23,
     "metadata": {},
     "output_type": "execute_result"
    }
   ],
   "source": [
    "batch_size = 1\n",
    "check_model_gradient(\n",
    "    model, \n",
    "    X[:batch_size], \n",
    "    y_one_hot.argmax(axis=1)[:batch_size],\n",
    "    delta=1e-6,\n",
    "    tol=1e-4\n",
    ")"
   ]
  },
  {
   "cell_type": "markdown",
   "metadata": {},
   "source": [
    "### 12. Добавьте L2-регуляризацию в процесс вычисления градиентов."
   ]
  },
  {
   "cell_type": "code",
   "execution_count": 24,
   "metadata": {},
   "outputs": [],
   "source": [
    "model = TwoLayerNet(\n",
    "    W1=np.random.randn(400, 25), \n",
    "    W2=np.random.randn(25, 10), \n",
    "    B1=np.random.randn(25), \n",
    "    B2=np.random.randn(10),\n",
    "    reg=1e-4\n",
    ")"
   ]
  },
  {
   "cell_type": "markdown",
   "metadata": {},
   "source": [
    "### 13. Проверьте полученные значения градиента."
   ]
  },
  {
   "cell_type": "code",
   "execution_count": 25,
   "metadata": {},
   "outputs": [
    {
     "name": "stdout",
     "output_type": "stream",
     "text": [
      "Checking gradient for W1\n",
      "Gradient check passed!\n",
      "Checking gradient for B1\n",
      "Gradient check passed!\n",
      "Checking gradient for W2\n",
      "Gradient check passed!\n",
      "Checking gradient for B2\n",
      "Gradient check passed!\n"
     ]
    },
    {
     "data": {
      "text/plain": [
       "True"
      ]
     },
     "execution_count": 25,
     "metadata": {},
     "output_type": "execute_result"
    }
   ],
   "source": [
    "batch_size = 1\n",
    "\n",
    "check_model_gradient(\n",
    "    model, \n",
    "    X[:batch_size], \n",
    "    y_one_hot.argmax(axis=1)[:batch_size],\n",
    "    delta=1e-6,\n",
    "    tol=1e-4\n",
    ")"
   ]
  },
  {
   "cell_type": "markdown",
   "metadata": {},
   "source": [
    "### 14. Обучите нейронную сеть с использованием градиентного спуска или других более эффективных методов оптимизации."
   ]
  },
  {
   "cell_type": "code",
   "execution_count": 26,
   "metadata": {},
   "outputs": [],
   "source": [
    "class SGD:\n",
    "    def update(self, w, d_w, learning_rate):\n",
    "        return w - d_w * learning_rate"
   ]
  },
  {
   "cell_type": "code",
   "execution_count": 34,
   "metadata": {},
   "outputs": [],
   "source": [
    "class Trainer:\n",
    "    def __init__(self, model, train_X, train_y, optim,\n",
    "                 num_epochs=20,\n",
    "                 batch_size=20,\n",
    "                 learning_rate=1e-2):\n",
    "        self.train_X, self.train_y = train_X, train_y\n",
    "        self.model = model\n",
    "        self.optim = optim\n",
    "        self.batch_size = batch_size\n",
    "        self.learning_rate = learning_rate\n",
    "        self.num_epochs = num_epochs\n",
    "\n",
    "        self.optimizers = None\n",
    "\n",
    "    def setup_optimizers(self):\n",
    "        params = self.model.params()\n",
    "        self.optimizers = {}\n",
    "        for param_name, param in params.items():\n",
    "            self.optimizers[param_name] = deepcopy(self.optim)\n",
    "\n",
    "    def compute_accuracy(self, X, y):\n",
    "        indices = np.arange(X.shape[0])\n",
    "        sections = np.arange(self.batch_size, X.shape[0], self.batch_size)\n",
    "        batches_indices = np.array_split(indices, sections)\n",
    "\n",
    "        pred = np.zeros_like(y)\n",
    "\n",
    "        for batch_indices in batches_indices:\n",
    "            batch_X = X[batch_indices]\n",
    "            pred_batch = self.model.predict(batch_X)\n",
    "            pred[batch_indices] = pred_batch\n",
    "\n",
    "        return multiclass_accuracy(pred, y)\n",
    "\n",
    "    def fit(self):\n",
    "        if self.optimizers is None:\n",
    "            self.setup_optimizers()\n",
    "\n",
    "        num_train = self.train_X.shape[0]\n",
    "\n",
    "        loss_history = []\n",
    "        train_acc_history = []\n",
    "        val_acc_history = []\n",
    "        \n",
    "        for epoch in range(self.num_epochs):\n",
    "            shuffled_indices = np.arange(num_train)\n",
    "            np.random.shuffle(shuffled_indices)\n",
    "            sections = np.arange(self.batch_size, num_train, self.batch_size)\n",
    "            batches_indices = np.array_split(shuffled_indices, sections)\n",
    "\n",
    "            batch_losses = []\n",
    "\n",
    "            for batch_indices in batches_indices:\n",
    "                x_batch, y_batch = self.train_X[batch_indices], self.train_y[batch_indices]\n",
    "                loss = self.model.compute_loss_and_gradients(x_batch, y_batch)\n",
    "\n",
    "                for param_name, param in self.model.params().items():\n",
    "                    optimizer = self.optimizers[param_name]\n",
    "                    param.value = optimizer.update(param.value, param.grad, self.learning_rate)\n",
    "\n",
    "                batch_losses.append(loss)\n",
    "\n",
    "                batch_accuracy = self.compute_accuracy(x_batch, y_batch)\n",
    "\n",
    "            ave_loss = np.mean(batch_losses)\n",
    "            train_accuracy = self.compute_accuracy(self.train_X, self.train_y)\n",
    "\n",
    "            print('Loss: %f, Train accuracy: %f' %(batch_losses[-1], train_accuracy))\n",
    "\n",
    "            loss_history.append(ave_loss)\n",
    "            train_acc_history.append(train_accuracy)\n",
    "\n",
    "        return loss_history, train_acc_history"
   ]
  },
  {
   "cell_type": "code",
   "execution_count": 32,
   "metadata": {},
   "outputs": [],
   "source": [
    "model = TwoLayerNet(\n",
    "    W1=np.random.randn(400, 25), \n",
    "    W2=np.random.randn(25, 10), \n",
    "    B1=np.random.randn(25), \n",
    "    B2=np.random.randn(10),\n",
    "    reg=0\n",
    ")\n",
    "\n",
    "optim = SGD()\n",
    "\n",
    "trainer = Trainer(model=model, train_X=X, train_y=y_one_hot.argmax(axis=1), optim=optim, num_epochs=200)"
   ]
  },
  {
   "cell_type": "code",
   "execution_count": 33,
   "metadata": {
    "scrolled": true
   },
   "outputs": [
    {
     "name": "stdout",
     "output_type": "stream",
     "text": [
      "Loss: 26.160409, Train accuracy: 0.654800\n",
      "Loss: 19.183639, Train accuracy: 0.752400\n",
      "Loss: 10.996868, Train accuracy: 0.795200\n",
      "Loss: 12.057975, Train accuracy: 0.825200\n",
      "Loss: 6.575583, Train accuracy: 0.847000\n",
      "Loss: 7.912921, Train accuracy: 0.859200\n",
      "Loss: 5.131373, Train accuracy: 0.873400\n",
      "Loss: 3.233536, Train accuracy: 0.883400\n",
      "Loss: 13.987534, Train accuracy: 0.889600\n",
      "Loss: 7.053924, Train accuracy: 0.893600\n",
      "Loss: 8.170688, Train accuracy: 0.899400\n",
      "Loss: 5.111119, Train accuracy: 0.904000\n",
      "Loss: 4.527087, Train accuracy: 0.908600\n",
      "Loss: 6.365131, Train accuracy: 0.909800\n",
      "Loss: 6.578419, Train accuracy: 0.914200\n",
      "Loss: 6.920670, Train accuracy: 0.918400\n",
      "Loss: 8.995279, Train accuracy: 0.923000\n",
      "Loss: 7.739378, Train accuracy: 0.925000\n",
      "Loss: 1.573313, Train accuracy: 0.925600\n",
      "Loss: 5.273497, Train accuracy: 0.931000\n",
      "Loss: 5.904334, Train accuracy: 0.930800\n",
      "Loss: 2.467284, Train accuracy: 0.934600\n",
      "Loss: 3.217251, Train accuracy: 0.936200\n",
      "Loss: 4.909436, Train accuracy: 0.938400\n",
      "Loss: 1.766638, Train accuracy: 0.939000\n",
      "Loss: 8.087021, Train accuracy: 0.942600\n",
      "Loss: 1.605826, Train accuracy: 0.940800\n",
      "Loss: 7.788442, Train accuracy: 0.946800\n",
      "Loss: 5.617845, Train accuracy: 0.945600\n",
      "Loss: 6.136723, Train accuracy: 0.945400\n",
      "Loss: 2.035197, Train accuracy: 0.948800\n",
      "Loss: 2.524977, Train accuracy: 0.953600\n",
      "Loss: 3.621288, Train accuracy: 0.954200\n",
      "Loss: 2.310573, Train accuracy: 0.952600\n",
      "Loss: 0.807727, Train accuracy: 0.954800\n",
      "Loss: 4.273870, Train accuracy: 0.956600\n",
      "Loss: 4.790028, Train accuracy: 0.957000\n",
      "Loss: 0.445355, Train accuracy: 0.960400\n",
      "Loss: 2.081118, Train accuracy: 0.959800\n",
      "Loss: 6.372053, Train accuracy: 0.963200\n",
      "Loss: 4.833407, Train accuracy: 0.962400\n",
      "Loss: 2.011515, Train accuracy: 0.965600\n",
      "Loss: 3.424388, Train accuracy: 0.964600\n",
      "Loss: 2.062137, Train accuracy: 0.967600\n",
      "Loss: 5.067512, Train accuracy: 0.966800\n",
      "Loss: 0.366290, Train accuracy: 0.968400\n",
      "Loss: 0.949273, Train accuracy: 0.968000\n",
      "Loss: 4.290588, Train accuracy: 0.968800\n",
      "Loss: 0.634663, Train accuracy: 0.969000\n",
      "Loss: 0.928995, Train accuracy: 0.969200\n",
      "Loss: 2.823879, Train accuracy: 0.969400\n",
      "Loss: 1.827906, Train accuracy: 0.970400\n",
      "Loss: 3.196450, Train accuracy: 0.971600\n",
      "Loss: 3.085627, Train accuracy: 0.973800\n",
      "Loss: 2.339249, Train accuracy: 0.974200\n",
      "Loss: 0.350741, Train accuracy: 0.975400\n",
      "Loss: 1.387859, Train accuracy: 0.974800\n",
      "Loss: 0.297310, Train accuracy: 0.975800\n",
      "Loss: 1.469506, Train accuracy: 0.977000\n",
      "Loss: 3.969935, Train accuracy: 0.977600\n",
      "Loss: 0.832022, Train accuracy: 0.976800\n",
      "Loss: 3.549682, Train accuracy: 0.976200\n",
      "Loss: 1.125807, Train accuracy: 0.977600\n",
      "Loss: 1.506201, Train accuracy: 0.979000\n",
      "Loss: 1.810795, Train accuracy: 0.979800\n",
      "Loss: 2.663838, Train accuracy: 0.979000\n",
      "Loss: 0.644818, Train accuracy: 0.980000\n",
      "Loss: 1.314209, Train accuracy: 0.979800\n",
      "Loss: 1.720339, Train accuracy: 0.980800\n",
      "Loss: 1.216511, Train accuracy: 0.981800\n",
      "Loss: 5.104350, Train accuracy: 0.982000\n",
      "Loss: 0.666883, Train accuracy: 0.982400\n",
      "Loss: 4.664490, Train accuracy: 0.982800\n",
      "Loss: 1.111965, Train accuracy: 0.982400\n",
      "Loss: 1.361713, Train accuracy: 0.984000\n",
      "Loss: 0.636695, Train accuracy: 0.983600\n",
      "Loss: 0.726892, Train accuracy: 0.982800\n",
      "Loss: 1.007080, Train accuracy: 0.984400\n",
      "Loss: 0.591166, Train accuracy: 0.984800\n",
      "Loss: 1.268212, Train accuracy: 0.985000\n",
      "Loss: 1.370191, Train accuracy: 0.985000\n",
      "Loss: 0.197737, Train accuracy: 0.984800\n",
      "Loss: 1.021926, Train accuracy: 0.985800\n",
      "Loss: 3.943026, Train accuracy: 0.987000\n",
      "Loss: 0.380502, Train accuracy: 0.986600\n",
      "Loss: 0.489019, Train accuracy: 0.986400\n",
      "Loss: 0.513045, Train accuracy: 0.987000\n",
      "Loss: 3.719092, Train accuracy: 0.986800\n",
      "Loss: 0.665924, Train accuracy: 0.987600\n",
      "Loss: 2.547482, Train accuracy: 0.988400\n",
      "Loss: 0.837342, Train accuracy: 0.988200\n",
      "Loss: 1.980606, Train accuracy: 0.988400\n",
      "Loss: 0.413988, Train accuracy: 0.988600\n",
      "Loss: 4.159410, Train accuracy: 0.988200\n",
      "Loss: 1.773189, Train accuracy: 0.988600\n",
      "Loss: 1.236376, Train accuracy: 0.988800\n",
      "Loss: 1.229065, Train accuracy: 0.989200\n",
      "Loss: 4.283667, Train accuracy: 0.989800\n",
      "Loss: 2.378079, Train accuracy: 0.989200\n",
      "Loss: 0.435937, Train accuracy: 0.989400\n",
      "Loss: 0.088520, Train accuracy: 0.989400\n",
      "Loss: 1.879599, Train accuracy: 0.989400\n",
      "Loss: 0.718746, Train accuracy: 0.990200\n",
      "Loss: 1.401359, Train accuracy: 0.991600\n",
      "Loss: 1.866616, Train accuracy: 0.991400\n",
      "Loss: 0.740249, Train accuracy: 0.991200\n",
      "Loss: 0.325239, Train accuracy: 0.991400\n",
      "Loss: 0.480648, Train accuracy: 0.991000\n",
      "Loss: 0.920491, Train accuracy: 0.991400\n",
      "Loss: 2.245396, Train accuracy: 0.991200\n",
      "Loss: 1.240430, Train accuracy: 0.991400\n",
      "Loss: 1.696771, Train accuracy: 0.991400\n",
      "Loss: 0.733601, Train accuracy: 0.991600\n",
      "Loss: 1.344078, Train accuracy: 0.991600\n",
      "Loss: 0.401365, Train accuracy: 0.992000\n",
      "Loss: 1.552807, Train accuracy: 0.992000\n",
      "Loss: 0.231171, Train accuracy: 0.992000\n",
      "Loss: 0.701106, Train accuracy: 0.992200\n",
      "Loss: 0.777973, Train accuracy: 0.992200\n",
      "Loss: 0.426681, Train accuracy: 0.992000\n",
      "Loss: 0.524139, Train accuracy: 0.992600\n",
      "Loss: 0.978615, Train accuracy: 0.992200\n",
      "Loss: 0.496839, Train accuracy: 0.992400\n",
      "Loss: 0.489061, Train accuracy: 0.992600\n",
      "Loss: 0.982652, Train accuracy: 0.992600\n",
      "Loss: 3.450625, Train accuracy: 0.993000\n",
      "Loss: 0.260778, Train accuracy: 0.993000\n",
      "Loss: 0.150386, Train accuracy: 0.993000\n",
      "Loss: 0.600110, Train accuracy: 0.993400\n",
      "Loss: 0.282708, Train accuracy: 0.993200\n",
      "Loss: 1.946491, Train accuracy: 0.993400\n",
      "Loss: 0.190100, Train accuracy: 0.993400\n",
      "Loss: 0.864713, Train accuracy: 0.993800\n",
      "Loss: 0.267336, Train accuracy: 0.993800\n",
      "Loss: 1.419849, Train accuracy: 0.993600\n",
      "Loss: 0.466849, Train accuracy: 0.993800\n",
      "Loss: 2.885009, Train accuracy: 0.993800\n",
      "Loss: 1.203198, Train accuracy: 0.993800\n",
      "Loss: 0.599219, Train accuracy: 0.994600\n",
      "Loss: 1.088687, Train accuracy: 0.994200\n",
      "Loss: 0.179722, Train accuracy: 0.994600\n",
      "Loss: 0.157310, Train accuracy: 0.994200\n",
      "Loss: 0.473404, Train accuracy: 0.995000\n",
      "Loss: 0.495026, Train accuracy: 0.995000\n",
      "Loss: 2.913158, Train accuracy: 0.995000\n",
      "Loss: 1.564642, Train accuracy: 0.995200\n",
      "Loss: 0.400784, Train accuracy: 0.995800\n",
      "Loss: 0.351732, Train accuracy: 0.995600\n",
      "Loss: 0.155472, Train accuracy: 0.995600\n",
      "Loss: 0.413442, Train accuracy: 0.995600\n",
      "Loss: 0.252352, Train accuracy: 0.995600\n",
      "Loss: 1.058728, Train accuracy: 0.996000\n",
      "Loss: 0.413463, Train accuracy: 0.996000\n",
      "Loss: 2.424850, Train accuracy: 0.995800\n",
      "Loss: 0.801638, Train accuracy: 0.996600\n",
      "Loss: 0.408700, Train accuracy: 0.996400\n",
      "Loss: 0.214858, Train accuracy: 0.996200\n",
      "Loss: 0.601620, Train accuracy: 0.996200\n",
      "Loss: 0.433003, Train accuracy: 0.996600\n",
      "Loss: 0.037985, Train accuracy: 0.996200\n",
      "Loss: 0.299384, Train accuracy: 0.997000\n",
      "Loss: 0.731421, Train accuracy: 0.997000\n",
      "Loss: 0.983230, Train accuracy: 0.996800\n",
      "Loss: 0.245797, Train accuracy: 0.996800\n",
      "Loss: 0.126213, Train accuracy: 0.996800\n",
      "Loss: 0.451602, Train accuracy: 0.996600\n",
      "Loss: 0.233751, Train accuracy: 0.996800\n",
      "Loss: 0.243159, Train accuracy: 0.996800\n",
      "Loss: 2.030484, Train accuracy: 0.996600\n",
      "Loss: 0.103090, Train accuracy: 0.996600\n",
      "Loss: 0.594863, Train accuracy: 0.996800\n",
      "Loss: 0.654270, Train accuracy: 0.997000\n",
      "Loss: 0.122453, Train accuracy: 0.997000\n",
      "Loss: 0.435701, Train accuracy: 0.997200\n",
      "Loss: 0.426501, Train accuracy: 0.997200\n",
      "Loss: 0.355115, Train accuracy: 0.997000\n",
      "Loss: 0.069942, Train accuracy: 0.997000\n",
      "Loss: 0.991443, Train accuracy: 0.997000\n",
      "Loss: 0.356500, Train accuracy: 0.997200\n",
      "Loss: 0.406356, Train accuracy: 0.997200\n",
      "Loss: 0.560163, Train accuracy: 0.997000\n",
      "Loss: 0.260537, Train accuracy: 0.997600\n",
      "Loss: 0.093959, Train accuracy: 0.997400\n",
      "Loss: 0.094638, Train accuracy: 0.997400\n",
      "Loss: 0.408661, Train accuracy: 0.997400\n",
      "Loss: 0.316616, Train accuracy: 0.997600\n",
      "Loss: 0.931642, Train accuracy: 0.998000\n",
      "Loss: 0.177229, Train accuracy: 0.998000\n",
      "Loss: 0.209496, Train accuracy: 0.997400\n",
      "Loss: 0.165447, Train accuracy: 0.997800\n",
      "Loss: 0.334969, Train accuracy: 0.997800\n",
      "Loss: 0.049013, Train accuracy: 0.997600\n",
      "Loss: 0.079686, Train accuracy: 0.997600\n",
      "Loss: 0.228447, Train accuracy: 0.997600\n",
      "Loss: 0.653068, Train accuracy: 0.997800\n",
      "Loss: 1.892442, Train accuracy: 0.998000\n",
      "Loss: 0.136976, Train accuracy: 0.998000\n",
      "Loss: 0.159581, Train accuracy: 0.998000\n",
      "Loss: 0.030836, Train accuracy: 0.998000\n",
      "Loss: 0.851707, Train accuracy: 0.998200\n"
     ]
    }
   ],
   "source": [
    "loss_history, train_acc_history = trainer.fit()"
   ]
  },
  {
   "cell_type": "markdown",
   "metadata": {},
   "source": [
    "### 15. Вычислите процент правильных классификаций на обучающей выборке."
   ]
  },
  {
   "cell_type": "code",
   "execution_count": 37,
   "metadata": {},
   "outputs": [
    {
     "name": "stdout",
     "output_type": "stream",
     "text": [
      "Correct answers percent: 99.82%\n"
     ]
    }
   ],
   "source": [
    "print('Correct answers percent: {:.2%}'.format(train_acc_history[-1]))"
   ]
  },
  {
   "cell_type": "markdown",
   "metadata": {},
   "source": [
    "### 16. Визуализируйте скрытый слой обученной сети."
   ]
  },
  {
   "cell_type": "code",
   "execution_count": 38,
   "metadata": {},
   "outputs": [
    {
     "data": {
      "image/png": "[encoded data removed]",
      "text/plain": [
       "<Figure size 432x288 with 2 Axes>"
      ]
     },
     "metadata": {
      "needs_background": "light"
     },
     "output_type": "display_data"
    },
    {
     "data": {
      "image/png": "[encoded data removed]",
      "text/plain": [
       "<Figure size 432x288 with 2 Axes>"
      ]
     },
     "metadata": {
      "needs_background": "light"
     },
     "output_type": "display_data"
    },
    {
     "data": {
      "image/png": "[encoded data removed]",
      "text/plain": [
       "<Figure size 432x288 with 2 Axes>"
      ]
     },
     "metadata": {
      "needs_background": "light"
     },
     "output_type": "display_data"
    },
    {
     "data": {
      "image/png": "[encoded data removed]",
      "text/plain": [
       "<Figure size 432x288 with 2 Axes>"
      ]
     },
     "metadata": {
      "needs_background": "light"
     },
     "output_type": "display_data"
    },
    {
     "data": {
      "image/png": "[encoded data removed]",
      "text/plain": [
       "<Figure size 432x288 with 2 Axes>"
      ]
     },
     "metadata": {
      "needs_background": "light"
     },
     "output_type": "display_data"
    }
   ],
   "source": [
    "W1_trained = model.fc1.W.value\n",
    "W1_trained_reshaped = W1_trained.reshape((20, 20, 25)).transpose()\n",
    "\n",
    "for W in W1_trained_reshaped[:5]:\n",
    "    plt.imshow(W.transpose())\n",
    "    plt.axis('off')\n",
    "    plt.colorbar()\n",
    "    plt.show()"
   ]
  },
  {
   "cell_type": "markdown",
   "metadata": {},
   "source": [
    "### 17. Подберите параметр регуляризации. Как меняются изображения на скрытом слое в зависимости от данного параметра?"
   ]
  },
  {
   "cell_type": "code",
   "execution_count": 39,
   "metadata": {},
   "outputs": [],
   "source": [
    "model = TwoLayerNet(\n",
    "    W1=np.random.randn(400, 25), \n",
    "    W2=np.random.randn(25, 10), \n",
    "    B1=np.random.randn(25), \n",
    "    B2=np.random.randn(10),\n",
    "    reg=0.01\n",
    ")\n",
    "\n",
    "optim = SGD()\n",
    "\n",
    "trainer = Trainer(model=model, train_X=X, train_y=y_one_hot.argmax(axis=1), optim=optim, num_epochs=100)"
   ]
  },
  {
   "cell_type": "code",
   "execution_count": 40,
   "metadata": {
    "scrolled": true
   },
   "outputs": [
    {
     "name": "stdout",
     "output_type": "stream",
     "text": [
      "Loss: 111.242459, Train accuracy: 0.705400\n",
      "Loss: 101.842707, Train accuracy: 0.777400\n",
      "Loss: 92.507639, Train accuracy: 0.823000\n",
      "Loss: 83.891129, Train accuracy: 0.842200\n",
      "Loss: 68.677069, Train accuracy: 0.861800\n",
      "Loss: 70.644903, Train accuracy: 0.874200\n",
      "Loss: 58.222038, Train accuracy: 0.887400\n",
      "Loss: 57.686724, Train accuracy: 0.892600\n",
      "Loss: 51.042550, Train accuracy: 0.902000\n",
      "Loss: 44.543845, Train accuracy: 0.910000\n",
      "Loss: 41.389907, Train accuracy: 0.915000\n",
      "Loss: 39.411872, Train accuracy: 0.916200\n",
      "Loss: 36.491608, Train accuracy: 0.923400\n",
      "Loss: 37.832826, Train accuracy: 0.924400\n",
      "Loss: 29.675773, Train accuracy: 0.931200\n",
      "Loss: 33.648829, Train accuracy: 0.930400\n",
      "Loss: 27.153354, Train accuracy: 0.931400\n",
      "Loss: 23.030643, Train accuracy: 0.934800\n",
      "Loss: 21.720122, Train accuracy: 0.939000\n",
      "Loss: 21.349460, Train accuracy: 0.938400\n",
      "Loss: 20.262971, Train accuracy: 0.941600\n",
      "Loss: 18.886814, Train accuracy: 0.939400\n",
      "Loss: 17.355865, Train accuracy: 0.944600\n",
      "Loss: 22.300300, Train accuracy: 0.946200\n",
      "Loss: 18.609095, Train accuracy: 0.948800\n",
      "Loss: 18.232898, Train accuracy: 0.950200\n",
      "Loss: 14.264325, Train accuracy: 0.948600\n",
      "Loss: 12.550938, Train accuracy: 0.949400\n",
      "Loss: 14.430097, Train accuracy: 0.949800\n",
      "Loss: 13.348901, Train accuracy: 0.950200\n",
      "Loss: 12.902926, Train accuracy: 0.951000\n",
      "Loss: 15.078208, Train accuracy: 0.952400\n",
      "Loss: 9.865529, Train accuracy: 0.953000\n",
      "Loss: 10.374944, Train accuracy: 0.952600\n",
      "Loss: 11.935451, Train accuracy: 0.954000\n",
      "Loss: 11.155936, Train accuracy: 0.953000\n",
      "Loss: 15.964910, Train accuracy: 0.952200\n",
      "Loss: 12.263645, Train accuracy: 0.956400\n",
      "Loss: 8.942936, Train accuracy: 0.956000\n",
      "Loss: 7.506891, Train accuracy: 0.955800\n",
      "Loss: 13.192356, Train accuracy: 0.955600\n",
      "Loss: 8.416439, Train accuracy: 0.957000\n",
      "Loss: 14.250050, Train accuracy: 0.957200\n",
      "Loss: 8.026784, Train accuracy: 0.948800\n",
      "Loss: 11.538558, Train accuracy: 0.957000\n",
      "Loss: 7.852755, Train accuracy: 0.957000\n",
      "Loss: 11.257406, Train accuracy: 0.957400\n",
      "Loss: 9.027260, Train accuracy: 0.956800\n",
      "Loss: 14.873722, Train accuracy: 0.956200\n",
      "Loss: 10.214949, Train accuracy: 0.954800\n",
      "Loss: 9.355668, Train accuracy: 0.956800\n",
      "Loss: 10.559907, Train accuracy: 0.956600\n",
      "Loss: 5.887471, Train accuracy: 0.955400\n",
      "Loss: 8.508790, Train accuracy: 0.959400\n",
      "Loss: 9.546335, Train accuracy: 0.956000\n",
      "Loss: 10.573070, Train accuracy: 0.959400\n",
      "Loss: 6.754294, Train accuracy: 0.960800\n",
      "Loss: 10.196525, Train accuracy: 0.956600\n",
      "Loss: 7.656450, Train accuracy: 0.960000\n",
      "Loss: 5.640095, Train accuracy: 0.955600\n",
      "Loss: 12.087535, Train accuracy: 0.959000\n",
      "Loss: 7.029223, Train accuracy: 0.959400\n",
      "Loss: 10.013779, Train accuracy: 0.958200\n",
      "Loss: 16.394816, Train accuracy: 0.960600\n",
      "Loss: 8.490982, Train accuracy: 0.959200\n",
      "Loss: 6.349894, Train accuracy: 0.957600\n",
      "Loss: 8.580885, Train accuracy: 0.960800\n",
      "Loss: 7.432754, Train accuracy: 0.962200\n",
      "Loss: 5.442282, Train accuracy: 0.959600\n",
      "Loss: 6.480822, Train accuracy: 0.958000\n",
      "Loss: 6.212491, Train accuracy: 0.959800\n",
      "Loss: 9.532807, Train accuracy: 0.959800\n",
      "Loss: 8.858621, Train accuracy: 0.961400\n",
      "Loss: 7.420544, Train accuracy: 0.962000\n",
      "Loss: 10.267281, Train accuracy: 0.960400\n",
      "Loss: 5.262474, Train accuracy: 0.962400\n",
      "Loss: 11.716365, Train accuracy: 0.961600\n",
      "Loss: 8.653474, Train accuracy: 0.963600\n",
      "Loss: 7.915593, Train accuracy: 0.963400\n",
      "Loss: 6.654710, Train accuracy: 0.963400\n",
      "Loss: 8.299630, Train accuracy: 0.958600\n",
      "Loss: 5.347095, Train accuracy: 0.961800\n",
      "Loss: 8.944726, Train accuracy: 0.962400\n",
      "Loss: 6.286097, Train accuracy: 0.962800\n",
      "Loss: 8.753991, Train accuracy: 0.962000\n",
      "Loss: 5.400709, Train accuracy: 0.963200\n",
      "Loss: 6.766105, Train accuracy: 0.963200\n",
      "Loss: 8.250892, Train accuracy: 0.961800\n",
      "Loss: 7.395621, Train accuracy: 0.961800\n",
      "Loss: 6.283196, Train accuracy: 0.961600\n",
      "Loss: 9.061185, Train accuracy: 0.964000\n",
      "Loss: 7.228850, Train accuracy: 0.963800\n",
      "Loss: 7.430251, Train accuracy: 0.963400\n",
      "Loss: 9.174572, Train accuracy: 0.963200\n",
      "Loss: 8.971225, Train accuracy: 0.963000\n",
      "Loss: 9.143693, Train accuracy: 0.963400\n",
      "Loss: 8.163347, Train accuracy: 0.961600\n",
      "Loss: 8.103930, Train accuracy: 0.962000\n",
      "Loss: 7.257734, Train accuracy: 0.962600\n",
      "Loss: 7.692600, Train accuracy: 0.963200\n"
     ]
    }
   ],
   "source": [
    "loss_history, train_acc_history = trainer.fit()"
   ]
  },
  {
   "cell_type": "code",
   "execution_count": 41,
   "metadata": {},
   "outputs": [
    {
     "data": {
      "image/png": "[encoded data removed]",
      "text/plain": [
       "<Figure size 432x288 with 2 Axes>"
      ]
     },
     "metadata": {
      "needs_background": "light"
     },
     "output_type": "display_data"
    },
    {
     "data": {
      "image/png": "[encoded data removed]",
      "text/plain": [
       "<Figure size 432x288 with 2 Axes>"
      ]
     },
     "metadata": {
      "needs_background": "light"
     },
     "output_type": "display_data"
    },
    {
     "data": {
      "image/png": "[encoded data removed]",
      "text/plain": [
       "<Figure size 432x288 with 2 Axes>"
      ]
     },
     "metadata": {
      "needs_background": "light"
     },
     "output_type": "display_data"
    },
    {
     "data": {
      "image/png": "[encoded data removed]",
      "text/plain": [
       "<Figure size 432x288 with 2 Axes>"
      ]
     },
     "metadata": {
      "needs_background": "light"
     },
     "output_type": "display_data"
    },
    {
     "data": {
      "image/png": "[encoded data removed]",
      "text/plain": [
       "<Figure size 432x288 with 2 Axes>"
      ]
     },
     "metadata": {
      "needs_background": "light"
     },
     "output_type": "display_data"
    }
   ],
   "source": [
    "W1_trained = model.fc1.W.value\n",
    "W1_trained_reshaped = W1_trained.reshape((20, 20, 25)).transpose()\n",
    "\n",
    "for W in W1_trained_reshaped[:5]:\n",
    "    plt.imshow(W.transpose())\n",
    "    plt.axis('off')\n",
    "    plt.colorbar()\n",
    "    plt.show()"
   ]
  },
  {
   "cell_type": "markdown",
   "metadata": {},
   "source": [
    "Мы видим, что по краям изображений становится мало информации, а значит веса там близки к нулю. "
   ]
  }
 ],
 "metadata": {
  "kernelspec": {
   "display_name": "Python [conda env:bsuir_labs] *",
   "language": "python",
   "name": "conda-env-bsuir_labs-py"
  },
  "language_info": {
   "codemirror_mode": {
    "name": "ipython",
    "version": 3
   },
   "file_extension": ".py",
   "mimetype": "text/x-python",
   "name": "python",
   "nbconvert_exporter": "python",
   "pygments_lexer": "ipython3",
   "version": "3.7.5"
  }
 },
 "nbformat": 4,
 "nbformat_minor": 4
}
