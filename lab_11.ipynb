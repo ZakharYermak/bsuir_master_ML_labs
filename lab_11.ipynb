{
 "cells": [
  {
   "cell_type": "markdown",
   "metadata": {},
   "source": [
    "# Лабораторная работа №11 “Реализация криптографических атак с помощью машинного обучения на физически неклонируемые функции”"
   ]
  },
  {
   "cell_type": "markdown",
   "metadata": {},
   "source": [
    "### *Физически неклонируемые функции (ФНФ) часто используются в качестве криптографических примитивов при реализации протоколов аутентификации.*\n",
    "### *В данном случае устройство А, содержащее реализацию ФНФ, может быть аутентифицировано с помощью набора запросов (challenge) и проверки ответов на них (response). При этом использованные пары запрос-ответ удаляются из базы данных устройства.*\n",
    "### Более подробно о физически неклонируемых функциях можно прочесть:\n",
    "### - https://habr.com/post/343386/\n",
    "### - https://www.researchgate.net/profile/Alexander_Ivaniuk/publication/322077869_Proektirovanie_vstraivaemyh_cifrovyh_ustrojstv_i_sistem/links/5a43724caca272d2945a0464/Proektirovanie-vstraivaemyh-cifrovyh-ustrojstv-i-sistem.pdf (глава 5, раздел 4)\n"
   ]
  },
  {
   "cell_type": "markdown",
   "metadata": {},
   "source": [
    "## **Задание**"
   ]
  },
  {
   "cell_type": "markdown",
   "metadata": {},
   "source": [
    "### 1. Изучите классическую работу У. Рурмаира о криптографических атаках с помощью машинного обучения на ФНФ. U. Ruhrmair et al., “Modeling attacks on physical unclonable functions,” in Proc. ACM Conf. on Comp. and Comm. Secur. (CCS’10), Oct. 2010, pp. 237–249. https://eprint.iacr.org/2010/251.pdf"
   ]
  },
  {
   "cell_type": "markdown",
   "metadata": {},
   "source": [
    "### 2. Сформулируйте задачу в терминах машинного обучения."
   ]
  },
  {
   "cell_type": "markdown",
   "metadata": {},
   "source": [
    "PUF - это некий уникальный физический процесс, для каждого объекта(везде рассматриваются интегральные схемы) он чуть-чуть разный, но его нельзя точно воспроизвести на другом устройстве. Есть challenges, это некие входные параметры в эту функцию PUF и она выдает responses. Будем считать challenges за X, а responses за Y и пытаться научиться предсказывать Y по X."
   ]
  },
  {
   "cell_type": "markdown",
   "metadata": {},
   "source": [
    "### 3. Обучите модель, которая могла бы предсказывать ответы по запросам, которых нет в обучающей выборке."
   ]
  },
  {
   "cell_type": "code",
   "execution_count": 16,
   "metadata": {},
   "outputs": [],
   "source": [
    "import os\n",
    "import sys\n",
    "\n",
    "from sklearn.metrics import accuracy_score\n",
    "\n",
    "import matplotlib.pyplot as plt\n",
    "\n",
    "%matplotlib inline\n",
    "\n",
    "sys.path.insert(0, 'pypuf/')\n",
    "\n",
    "os.environ[\"OMP_NUM_THREADS\"] = '1'\n",
    "os.environ[\"NUMEXPR_NUM_THREADS\"] = '1'\n",
    "os.environ[\"MKL_NUM_THREADS\"] = '1'"
   ]
  },
  {
   "cell_type": "code",
   "execution_count": 3,
   "metadata": {},
   "outputs": [
    {
     "name": "stdout",
     "output_type": "stream",
     "text": [
      "(10000, 64) (10000,)\n"
     ]
    }
   ],
   "source": [
    "from pypuf import tools\n",
    "from pypuf.simulation.arbiter_based.ltfarray import LTFArray\n",
    "\n",
    "instance = LTFArray(\n",
    "    weight_array=LTFArray.normal_weights(n=64, k=2),\n",
    "    transform=LTFArray.transform_atf,\n",
    "    combiner=LTFArray.combiner_xor\n",
    ")\n",
    "\n",
    "train_set = tools.TrainingSet(instance=instance, N=15000)\n",
    "val_set = train_set.subset(slice(10000, None))\n",
    "train_set = train_set.subset(slice(None, 10000))\n",
    "\n",
    "challenges, responses = train_set.challenges, train_set.responses\n",
    "\n",
    "print(challenges.shape, responses.shape)"
   ]
  },
  {
   "cell_type": "code",
   "execution_count": 4,
   "metadata": {},
   "outputs": [],
   "source": [
    "from pypuf.learner.regression.logistic_regression import LogisticRegression\n",
    "\n",
    "lr_learner = LogisticRegression(\n",
    "    t_set=train_set,\n",
    "    n=64,\n",
    "    k=2,\n",
    "    transformation=LTFArray.transform_atf,\n",
    "    combiner=LTFArray.combiner_xor,\n",
    ")\n",
    "\n",
    "model = lr_learner.learn()"
   ]
  },
  {
   "cell_type": "code",
   "execution_count": 10,
   "metadata": {},
   "outputs": [
    {
     "name": "stdout",
     "output_type": "stream",
     "text": [
      "accuracy:  0.9932\n"
     ]
    }
   ],
   "source": [
    "val_set_predicted_responses = model.eval(val_set.challenges)\n",
    "acc = accuracy_score(val_set_predicted_responses, val_set.responses)\n",
    "\n",
    "print('accuracy: ', acc)"
   ]
  },
  {
   "cell_type": "markdown",
   "metadata": {},
   "source": [
    "### 4. Применить как минимум 3 различных алгоритма (например, метод опорных векторов, логистическая регрессия и градиентный бустинг)."
   ]
  },
  {
   "cell_type": "code",
   "execution_count": 31,
   "metadata": {},
   "outputs": [
    {
     "name": "stdout",
     "output_type": "stream",
     "text": [
      "accuracy for gradient boosting:  0.51\n"
     ]
    }
   ],
   "source": [
    "from pypuf.learner.other import Boosting\n",
    "\n",
    "boosting_learner = Boosting(\n",
    "    t_set=train_set,\n",
    "    n=64,\n",
    "    k=1,\n",
    "    transformation=LTFArray.transform_atf,\n",
    "    combiner=LTFArray.combiner_xor,\n",
    ")\n",
    "\n",
    "model_boosting = boosting_learner.learn()\n",
    "\n",
    "val_set_predicted_responses = model_boosting.eval(val_set.challenges)\n",
    "\n",
    "acc = round(accuracy_score(val_set_predicted_responses, val_set.responses), 4)\n",
    "\n",
    "print('accuracy for gradient boosting: ', acc)"
   ]
  },
  {
   "cell_type": "code",
   "execution_count": 28,
   "metadata": {},
   "outputs": [
    {
     "name": "stdout",
     "output_type": "stream",
     "text": [
      "accuracy for SVM:  0.5082\n"
     ]
    }
   ],
   "source": [
    "from pypuf.learner.other import SVM\n",
    "\n",
    "svm_learner = SVM(\n",
    "    t_set=train_set,\n",
    "    n=64,\n",
    "    k=1,\n",
    "    transformation=LTFArray.transform_atf,\n",
    "    combiner=LTFArray.combiner_xor,\n",
    ")\n",
    "\n",
    "model_svm = svm_learner.learn()\n",
    "\n",
    "val_set_predicted_responses = model_svm.eval(val_set.challenges)\n",
    "\n",
    "acc = round(accuracy_score(val_set_predicted_responses, val_set.responses), 4)\n",
    "\n",
    "print('accuracy for SVM: ', acc)"
   ]
  },
  {
   "cell_type": "code",
   "execution_count": 26,
   "metadata": {},
   "outputs": [
    {
     "name": "stdout",
     "output_type": "stream",
     "text": [
      "accuracy for logistic regression:  0.9932\n"
     ]
    }
   ],
   "source": [
    "from pypuf.learner.regression.logistic_regression import LogisticRegression\n",
    "\n",
    "lr_learner = LogisticRegression(\n",
    "    t_set=train_set,\n",
    "    n=64,\n",
    "    k=2,\n",
    "    transformation=LTFArray.transform_atf,\n",
    "    combiner=LTFArray.combiner_xor,\n",
    ")\n",
    "\n",
    "model = lr_learner.learn()\n",
    "\n",
    "val_set_predicted_responses = model.eval(val_set.challenges)\n",
    "\n",
    "acc = accuracy_score(val_set_predicted_responses, val_set.responses)\n",
    "\n",
    "print('accuracy for logistic regression: ', acc)"
   ]
  },
  {
   "cell_type": "markdown",
   "metadata": {},
   "source": [
    "### 5. Какая метрика наиболее подходит для оценки качества алгоритма?"
   ]
  },
  {
   "cell_type": "markdown",
   "metadata": {},
   "source": [
    "Поскольку это используется для идентификации объектов, то можно взять любую метрику оттуда:\n",
    "\n",
    "TAR@FAR=10^n, Rank-k@10^n и т.д."
   ]
  },
  {
   "cell_type": "markdown",
   "metadata": {},
   "source": [
    "### 6. Какой наибольшей доли правильных ответов (Accuracy) удалось достичь?"
   ]
  },
  {
   "cell_type": "markdown",
   "metadata": {},
   "source": [
    "0.99"
   ]
  },
  {
   "cell_type": "markdown",
   "metadata": {},
   "source": [
    "### 7. Какой размер обучающей выборки необходим, чтобы достигнуть доли правильных ответов минимум 0.95?\n",
    "### 8. Как зависит доля правильных ответов от N?\n",
    "### 9. Ответы на вопросы представьте в виде графиков."
   ]
  },
  {
   "cell_type": "markdown",
   "metadata": {},
   "source": [
    "Для того, чтобы обучить c качеством выше 0.95, достаточно уже порядка 2000 примеров для данного псевдослучайного набора CRPs(Challenge-Response pairs). С увеличением числа примеров количество правильных ответов растет.\n",
    "График ниже."
   ]
  },
  {
   "cell_type": "code",
   "execution_count": 14,
   "metadata": {},
   "outputs": [],
   "source": [
    "def pipeline(N):\n",
    "    instance = LTFArray(\n",
    "        weight_array=LTFArray.normal_weights(n=64, k=2),\n",
    "        transform=LTFArray.transform_atf,\n",
    "        combiner=LTFArray.combiner_xor\n",
    "    )\n",
    "\n",
    "    train_set = tools.TrainingSet(instance=instance, N=N)\n",
    "\n",
    "    train_size = int(len(train_set.challenges) * 0.95)\n",
    "\n",
    "    val_set = train_set.subset(slice(train_size, None))\n",
    "    train_set = train_set.subset(slice(None, train_size))\n",
    "    \n",
    "    lr_learner = LogisticRegression(\n",
    "        t_set=train_set,\n",
    "        n=64,\n",
    "        k=2,\n",
    "        transformation=LTFArray.transform_atf,\n",
    "        combiner=LTFArray.combiner_xor,\n",
    "    )\n",
    "\n",
    "    model = lr_learner.learn()\n",
    "    \n",
    "    val_set_predicted_responses = model.eval(val_set.challenges)\n",
    "\n",
    "    accuracy = accuracy_score(val_set_predicted_responses, val_set.responses)\n",
    "    \n",
    "    return accuracy"
   ]
  },
  {
   "cell_type": "code",
   "execution_count": 22,
   "metadata": {},
   "outputs": [],
   "source": [
    "N2accuracy = [(N, pipeline(N)) for N in [10, 50, 100, 500, 1000, 1500, 2000, 3000, 5000]]  "
   ]
  },
  {
   "cell_type": "code",
   "execution_count": 24,
   "metadata": {},
   "outputs": [
    {
     "data": {
      "image/png": "[encoded data removed]",
      "text/plain": [
       "<Figure size 1152x720 with 1 Axes>"
      ]
     },
     "metadata": {
      "needs_background": "light"
     },
     "output_type": "display_data"
    }
   ],
   "source": [
    "plt.figure(figsize=(16,10))\n",
    "plt.plot(*zip(*N2accuracy))\n",
    "\n",
    "plt.xlabel('number of examples', size=20)\n",
    "plt.ylabel('accuracy', size=20)\n",
    "plt.show()"
   ]
  }
 ],
 "metadata": {
  "kernelspec": {
   "display_name": "Python [conda env:bsuir_labs] *",
   "language": "python",
   "name": "conda-env-bsuir_labs-py"
  },
  "language_info": {
   "codemirror_mode": {
    "name": "ipython",
    "version": 3
   },
   "file_extension": ".py",
   "mimetype": "text/x-python",
   "name": "python",
   "nbconvert_exporter": "python",
   "pygments_lexer": "ipython3",
   "version": "3.7.5"
  }
 },
 "nbformat": 4,
 "nbformat_minor": 4
}
