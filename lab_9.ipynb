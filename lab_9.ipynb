{
 "cells": [
  {
   "cell_type": "markdown",
   "metadata": {},
   "source": [
    "# Лабораторная работа №9 “Рекомендательные системы”"
   ]
  },
  {
   "cell_type": "markdown",
   "metadata": {},
   "source": [
    "### *Набор данных **ex9_movies.mat** представляет собой файл формата *.mat (т.е. сохраненного из Matlab). Набор содержит две матрицы Y и R - рейтинг 1682 фильмов среди 943 пользователей. Значение Rij может быть равно 0 или 1 в зависимости от того оценил ли пользователь j фильм i. Матрица Y содержит числа от 1 до 5 - оценки в баллах пользователей, выставленные фильмам.*"
   ]
  },
  {
   "cell_type": "markdown",
   "metadata": {},
   "source": [
    "## **Задание**"
   ]
  },
  {
   "cell_type": "markdown",
   "metadata": {},
   "source": [
    "### 1. Загрузите данные **ex9_movies.mat** из файла."
   ]
  },
  {
   "cell_type": "code",
   "execution_count": 1,
   "metadata": {},
   "outputs": [],
   "source": [
    "from scipy import io\n",
    "import numpy as np\n",
    "from scipy.optimize import minimize, check_grad\n",
    "\n",
    "%matplotlib inline"
   ]
  },
  {
   "cell_type": "code",
   "execution_count": 2,
   "metadata": {},
   "outputs": [],
   "source": [
    "ex9_movies = io.loadmat('Data/Lab 9/ex9_movies.mat')\n",
    "Y, R = ex9_movies['Y'], ex9_movies['R']"
   ]
  },
  {
   "cell_type": "markdown",
   "metadata": {},
   "source": [
    "### 2. Выберите число признаков фильмов (n) для реализации алгоритма коллаборативной фильтрации."
   ]
  },
  {
   "cell_type": "code",
   "execution_count": 14,
   "metadata": {},
   "outputs": [],
   "source": [
    "n = 10"
   ]
  },
  {
   "cell_type": "markdown",
   "metadata": {},
   "source": [
    "### 3. Реализуйте функцию стоимости для алгоритма."
   ]
  },
  {
   "cell_type": "code",
   "execution_count": 4,
   "metadata": {},
   "outputs": [],
   "source": [
    "def cost_func(q, Y, R, nu, nm, k, lam):\n",
    "    Q = q.reshape((nu+nm, k))\n",
    "    M = Q[:nm]\n",
    "    U = Q[-nu:]\n",
    "    E = (R*M.dot(U.T) - Y)\n",
    "    return 0.5* (np.sum(E**2) + lam*np.sum(Q**2))"
   ]
  },
  {
   "cell_type": "markdown",
   "metadata": {},
   "source": [
    "### 4. Реализуйте функцию вычисления градиентов."
   ]
  },
  {
   "cell_type": "code",
   "execution_count": 5,
   "metadata": {},
   "outputs": [],
   "source": [
    "def der_cost_func(q, Y, R, nu, nm, k, lam):\n",
    "    Q = q.reshape((nu+nm, k))\n",
    "    M = Q[:nm]\n",
    "    U = Q[-nu:]\n",
    "    \n",
    "    E = M.dot(U.T) - Y\n",
    "    E_ = R*E\n",
    "    \n",
    "    dQ = np.zeros((nu+nm, k))\n",
    "    dQ[:nm] = E_.dot(U) + lam*M\n",
    "    dQ[-nu:] = E_.T.dot(M) + lam*U\n",
    "    return dQ.ravel()"
   ]
  },
  {
   "cell_type": "markdown",
   "metadata": {},
   "source": [
    "### 5. При реализации используйте векторизацию для ускорения процесса обучения."
   ]
  },
  {
   "cell_type": "code",
   "execution_count": 6,
   "metadata": {},
   "outputs": [],
   "source": [
    "def cost_func(q, Y, R, nu, nm, k, lam):\n",
    "    Q = q.reshape((nu+nm, k))\n",
    "    M = Q[:nm]\n",
    "    U = Q[-nu:]\n",
    "    E = (R*M.dot(U.T) - Y)\n",
    "    return 0.5* (np.sum(E**2) + lam*np.sum(Q**2))\n",
    "\n",
    "def der_cost_func(q, Y, R, nu, nm, k, lam):\n",
    "    Q = q.reshape((nu+nm, k))\n",
    "    M = Q[:nm]\n",
    "    U = Q[-nu:]\n",
    "    \n",
    "    E = M.dot(U.T) - Y\n",
    "    E_ = R*E\n",
    "    \n",
    "    dQ = np.zeros((nu+nm, k))\n",
    "    dQ[:nm] = E_.dot(U) + lam*M\n",
    "    dQ[-nu:] = E_.T.dot(M) + lam*U\n",
    "    return dQ.ravel()"
   ]
  },
  {
   "cell_type": "markdown",
   "metadata": {},
   "source": [
    "### 6. Добавьте L2-регуляризацию в модель."
   ]
  },
  {
   "cell_type": "code",
   "execution_count": 7,
   "metadata": {},
   "outputs": [],
   "source": [
    "def cost_func(q, Y, R, nu, nm, k, lam):\n",
    "    Q = q.reshape((nu+nm, k))\n",
    "    M = Q[:nm]\n",
    "    U = Q[-nu:]\n",
    "    E = (R*M.dot(U.T) - Y)\n",
    "    return 0.5* (np.sum(E**2) + lam*np.sum(Q**2))\n",
    "\n",
    "def der_cost_func(q, Y, R, nu, nm, k, lam):\n",
    "    Q = q.reshape((nu+nm, k))\n",
    "    M = Q[:nm]\n",
    "    U = Q[-nu:]\n",
    "    \n",
    "    E = M.dot(U.T) - Y\n",
    "    E_ = R*E\n",
    "    \n",
    "    dQ = np.zeros((nu+nm, k))\n",
    "    dQ[:nm] = E_.dot(U) + lam*M\n",
    "    dQ[-nu:] = E_.T.dot(M) + lam*U\n",
    "    return dQ.ravel()"
   ]
  },
  {
   "cell_type": "markdown",
   "metadata": {},
   "source": [
    "### 7.  Обучите модель с помощью градиентного спуска или других методов оптимизации."
   ]
  },
  {
   "cell_type": "code",
   "execution_count": 15,
   "metadata": {},
   "outputs": [],
   "source": [
    "nm, nu = Y.shape\n",
    "x0 = np.random.rand(nu+nm, n)\n",
    "\n",
    "result = minimize(cost_func, x0.ravel(), (Y, R, nu, nm, n, 0.1), 'CG', der_cost_func, options={'maxiter': 100})"
   ]
  },
  {
   "cell_type": "code",
   "execution_count": 18,
   "metadata": {},
   "outputs": [
    {
     "name": "stdout",
     "output_type": "stream",
     "text": [
      "real mark: 3, prediction: 2.962725939805075\n"
     ]
    }
   ],
   "source": [
    "Q = result.x.reshape((nu+nm, k))\n",
    "M = Q[:nm]\n",
    "U = Q[-nu:]\n",
    "\n",
    "print('real mark: {}, prediction: {}'.format(Y[1, 0], sum(M[1]*U[0])))"
   ]
  }
 ],
 "metadata": {
  "kernelspec": {
   "display_name": "Python [conda env:bsuir_labs] *",
   "language": "python",
   "name": "conda-env-bsuir_labs-py"
  },
  "language_info": {
   "codemirror_mode": {
    "name": "ipython",
    "version": 3
   },
   "file_extension": ".py",
   "mimetype": "text/x-python",
   "name": "python",
   "nbconvert_exporter": "python",
   "pygments_lexer": "ipython3",
   "version": "3.7.5"
  }
 },
 "nbformat": 4,
 "nbformat_minor": 4
}
